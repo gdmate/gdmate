{
 "cells": [
  {
   "cell_type": "markdown",
   "metadata": {},
   "source": [
    "# Viscous Flow Law Unit Conversions and Scaling for ASPECT #\n",
    "This notebook demonstrates the use of the gdmate.flow module for obtaining the correct viscous flow law values for use in ASPECT. There are two key considerations: unit conversions and scaling of the prefactor term.\n",
    "\n",
    "__NOTE:__ This module does not currently account for the fact that the viscosity formulation in ASPECT does not include a term for water fugacity. Thus, the viscosities calculated for we rheologies will be slightly off, as the A prefactor calculated here is appropriate for a formulation with water fugacity included."
   ]
  },
  {
   "cell_type": "code",
   "execution_count": 3,
   "metadata": {},
   "outputs": [],
   "source": [
    "# Import GDMATE\n",
    "import gdmate as gd"
   ]
  },
  {
   "cell_type": "markdown",
   "metadata": {},
   "source": [
    "For a quick calculation/explanation of the flow laws, the function `gd.flow.get_flow_law_parameters` will do the appropriate conversion/scaling for the given flow law. The flow law is defined in this function by a set of 4 inputs corresponding to the material, source, type of creep, and dryness. Current options are:\n",
    "\n",
    "_Olivine - Hirth and Kohlstedt, 2003_\n",
    "* dry dislocation\n",
    "* wet dislocation\n",
    "* dry diffusion\n",
    "* wet diffusion\n",
    "\n",
    "_Quartzite - Gleason and Tullis, 1995_\n",
    "* wet dislocation\n",
    "\n",
    "_Anorthite - Rybacki et al., 2006_\n",
    "* wet dislocation\n",
    "\n",
    "The output of this function is a tuple with the scaled/converted values in the form `(A_scaled,n,m_diff,r,E_converted,V_converted)`"
   ]
  },
  {
   "cell_type": "code",
   "execution_count": 4,
   "metadata": {},
   "outputs": [
    {
     "name": "stdout",
     "output_type": "stream",
     "text": [
      "Published Values:\n",
      "A - prefactor (MPa^-n-r um^m_diff s^-1):  1.10e+05\n",
      "n - stress exponent:  3.50e+00\n",
      "m_diff - grain size exponent:  0.00e+00\n",
      "r - fugacity exponent:  0.00e+00\n",
      "E - activation energy (kJ/mol) 5.30e+02\n",
      "V - activation volume (10^-6 m^3/mol) 1.80e+01\n",
      "\n",
      "Converted to SI Units:\n",
      "A (Pa^-n-r m^m_diff s^-1):  1.10e-16\n",
      "E - activation energy (J/mol):  5.30e+05\n",
      "V - activation volume (m^3/mol):  1.80e-05\n",
      "\n",
      "Scaled A for ASPECT:\n",
      "A scaled (Pa^-n-r m^m_diff s^-1):  6.51e-16\n"
     ]
    }
   ],
   "source": [
    "ol_hirth_dry_dislocation = gd.flow_laws.get_flow_law_parameters(\n",
    "    'olivine','hirth','dislocation','dry')"
   ]
  },
  {
   "cell_type": "code",
   "execution_count": 5,
   "metadata": {},
   "outputs": [
    {
     "name": "stdout",
     "output_type": "stream",
     "text": [
      "Published Values:\n",
      "A - prefactor (MPa^-n-r um^m_diff s^-1):  9.00e+01\n",
      "n - stress exponent:  3.50e+00\n",
      "m_diff - grain size exponent:  0.00e+00\n",
      "r - fugacity exponent:  1.20e+00\n",
      "E - activation energy (kJ/mol) 4.80e+02\n",
      "V - activation volume (10^-6 m^3/mol) 1.10e+01\n",
      "\n",
      "Converted to SI Units:\n",
      "A (Pa^-n-r m^m_diff s^-1):  5.68e-27\n",
      "E - activation energy (J/mol):  4.80e+05\n",
      "V - activation volume (m^3/mol):  1.10e-05\n",
      "\n",
      "Scaled A for ASPECT:\n",
      "A scaled (Pa^-n-r m^m_diff s^-1):  3.36e-26\n"
     ]
    }
   ],
   "source": [
    "ol_hirth_wet_dislocation = gd.flow_laws.get_flow_law_parameters(\n",
    "    'olivine','hirth','dislocation','wet')"
   ]
  },
  {
   "cell_type": "code",
   "execution_count": 6,
   "metadata": {},
   "outputs": [
    {
     "name": "stdout",
     "output_type": "stream",
     "text": [
      "Published Values:\n",
      "A - prefactor (MPa^-n-r um^m_diff s^-1):  1.50e+09\n",
      "n - stress exponent:  1.00e+00\n",
      "m_diff - grain size exponent:  3.00e+00\n",
      "r - fugacity exponent:  0.00e+00\n",
      "E - activation energy (kJ/mol) 3.75e+02\n",
      "V - activation volume (10^-6 m^3/mol) 2.00e+00\n",
      "\n",
      "Converted to SI Units:\n",
      "A (Pa^-n-r m^m_diff s^-1):  1.50e-15\n",
      "E - activation energy (J/mol):  3.75e+05\n",
      "V - activation volume (m^3/mol):  2.00e-06\n",
      "\n",
      "Scaled A for ASPECT:\n",
      "A scaled (Pa^-n-r m^m_diff s^-1):  2.25e-15\n"
     ]
    }
   ],
   "source": [
    "ol_hirth_dry_diffusion = gd.flow_laws.get_flow_law_parameters(\n",
    "    'olivine','hirth','diffusion','dry')"
   ]
  },
  {
   "cell_type": "code",
   "execution_count": 7,
   "metadata": {},
   "outputs": [
    {
     "name": "stdout",
     "output_type": "stream",
     "text": [
      "Published Values:\n",
      "A - prefactor (MPa^-n-r um^m_diff s^-1):  1.00e+06\n",
      "n - stress exponent:  1.00e+00\n",
      "m_diff - grain size exponent:  3.00e+00\n",
      "r - fugacity exponent:  1.00e+00\n",
      "E - activation energy (kJ/mol) 3.35e+02\n",
      "V - activation volume (10^-6 m^3/mol) 4.00e+00\n",
      "\n",
      "Converted to SI Units:\n",
      "A (Pa^-n-r m^m_diff s^-1):  1.00e-24\n",
      "E - activation energy (J/mol):  3.35e+05\n",
      "V - activation volume (m^3/mol):  4.00e-06\n",
      "\n",
      "Scaled A for ASPECT:\n",
      "A scaled (Pa^-n-r m^m_diff s^-1):  1.50e-24\n"
     ]
    }
   ],
   "source": [
    "ol_hirth_wet_diffusion = gd.flow_laws.get_flow_law_parameters(\n",
    "    'olivine','hirth','diffusion','wet')"
   ]
  },
  {
   "cell_type": "code",
   "execution_count": 8,
   "metadata": {},
   "outputs": [
    {
     "name": "stdout",
     "output_type": "stream",
     "text": [
      "Published Values:\n",
      "A - prefactor (MPa^-n-r um^m_diff s^-1):  1.58e+00\n",
      "n - stress exponent:  3.00e+00\n",
      "m_diff - grain size exponent:  0.00e+00\n",
      "r - fugacity exponent:  1.00e+00\n",
      "E - activation energy (kJ/mol) 3.45e+02\n",
      "V - activation volume (10^-6 m^3/mol) 3.80e+01\n",
      "\n",
      "Converted to SI Units:\n",
      "A (Pa^-n-r m^m_diff s^-1):  1.58e-24\n",
      "E - activation energy (J/mol):  3.45e+05\n",
      "V - activation volume (m^3/mol):  3.80e-05\n",
      "\n",
      "Scaled A for ASPECT:\n",
      "A scaled (Pa^-n-r m^m_diff s^-1):  7.13e-24\n"
     ]
    }
   ],
   "source": [
    "an_rybacki_wet_dislocation = gd.flow_laws.get_flow_law_parameters(\n",
    "    'anorthite','rybacki','dislocation','wet')"
   ]
  },
  {
   "cell_type": "code",
   "execution_count": 9,
   "metadata": {},
   "outputs": [
    {
     "name": "stdout",
     "output_type": "stream",
     "text": [
      "Published Values:\n",
      "A - prefactor (MPa^-n-r um^m_diff s^-1):  1.10e-04\n",
      "n - stress exponent:  4.00e+00\n",
      "m_diff - grain size exponent:  0.00e+00\n",
      "r - fugacity exponent:  0.00e+00\n",
      "E - activation energy (kJ/mol) 2.23e+02\n",
      "V - activation volume (10^-6 m^3/mol) 0.00e+00\n",
      "\n",
      "Converted to SI Units:\n",
      "A (Pa^-n-r m^m_diff s^-1):  1.10e-28\n",
      "E - activation energy (J/mol):  2.23e+05\n",
      "V - activation volume (m^3/mol):  0.00e+00\n",
      "\n",
      "Scaled A for ASPECT:\n",
      "A scaled (Pa^-n-r m^m_diff s^-1):  8.57e-28\n"
     ]
    }
   ],
   "source": [
    "qz_gleason_wet_dislocation = gd.flow_laws.get_flow_law_parameters(\n",
    "    'quartzite','gleason','dislocation','wet')"
   ]
  },
  {
   "cell_type": "markdown",
   "metadata": {},
   "source": [
    "The code is also designed so that the individual steps can be examined and done discretely. The first step in most cases is converting A, E, and V to the correct SI units from the units in which they are typically reported in papers.\n",
    "\n",
    "### Converting to SI Units ###\n",
    "\n",
    "__A (prefactor)__\n",
    "* Typically reported in $MPa^{(-n-r)} \\mu m^{m_{diff}} s^{-1}$\n",
    "* Correct SI units are $Pa^{(-n-r)} m^{m_{diff}} s^{-1}$\n",
    "* This requires the following conversion in most cases: <br>\n",
    "$ A_{SI} = A_{published} \\cdot (10^{6})^{(-n-r)} \\cdot (10^{-6})^{m_{diff}}$ <br><br>\n",
    "\n",
    "\n",
    "__E (activation energy)__\n",
    "* Typically reported in $kJ/mol$, so just needs simple conversion to $J/mol$: <br>\n",
    "$ E_{SI} = E_{published} \\cdot 1000$ <br><br>\n",
    "\n",
    "__V (activation volume)__\n",
    "* Typically reported in $10^{-6} m^{3}/mol$, so just need to get the $10^{-6}$ into the value: <br>\n",
    "$ V_{SI} = V_{published} \\cdot 10^{-6}$ <br><br>\n",
    "\n",
    "This conversion is implemented as a step in the function `convert2SI` and the published values can be accessed using `get_published`.\n"
   ]
  },
  {
   "cell_type": "code",
   "execution_count": 10,
   "metadata": {},
   "outputs": [
    {
     "name": "stdout",
     "output_type": "stream",
     "text": [
      "(110000.0, 3.5, 0, 0, 530, 18)\n",
      "(1.0999999999999999e-16, 3.5, 0, 0, 530000, 1.8e-05)\n"
     ]
    }
   ],
   "source": [
    "ol_hirth_dry_dislocation_pub = gd.flow_laws.get_published(\n",
    "    'olivine','hirth','dislocation','dry')\n",
    "\n",
    "print(ol_hirth_dry_dislocation_pub)\n",
    "\n",
    "converted = gd.flow_laws.convert2SI(ol_hirth_dry_dislocation_pub)\n",
    "\n",
    "print(converted)"
   ]
  },
  {
   "cell_type": "markdown",
   "metadata": {},
   "source": [
    "### Scaling the Prefactor ###\n",
    "Because published values are typically derived from uniaxial strain experiments, an additional scaling of the prefactor A is needed for input into ASPECT. ASPECT relates strain rate to viscosity using the following equation: <br><br>\n",
    "\n",
    "$ v = \\frac{1}{2} A^{-\\frac{1}{n}} d^{\\frac{m}{n}} \\dot{\\epsilon}_{ii}^{\\frac{(1-n)}{n}} exp (\\frac{E+PV}{nRT})$\n",
    "\n",
    "For this relationship, the correct scaling for A is: <br><br>\n",
    "\n",
    "$ A_{scaled} = \\frac{3^{\\frac{(n+1)}{2}}}{2} \\cdot A_{SI} $\n",
    "\n",
    "In gdmate, the relevant function is `scaleA`.\n",
    "\n",
    "Note that this differs from the scaling factor as written in the Gerya textbook - this is because Gerya's factor is not used to scale A; it is used to scale the viscosity (i.e., the entire equation above where $A^{-\\frac{1}{n}}$ is a factor). Since we only input A into ASPECT and not a factor by which to multiply the viscosity, we need to adjust the scaling factor accordingly to achieve the same viscosity"
   ]
  },
  {
   "cell_type": "code",
   "execution_count": 11,
   "metadata": {},
   "outputs": [
    {
     "name": "stdout",
     "output_type": "stream",
     "text": [
      "6.514566364114837e-16\n"
     ]
    }
   ],
   "source": [
    "# Extract n from converted to SI output\n",
    "A_SI = converted[0]\n",
    "n = converted[1]\n",
    "\n",
    "scaled = gd.flow_laws.scaleA(A_SI,n)\n",
    "\n",
    "print(scaled)"
   ]
  }
 ],
 "metadata": {
  "kernelspec": {
   "display_name": "Python 3.10.5 ('test-gdmate')",
   "language": "python",
   "name": "python3"
  },
  "language_info": {
   "codemirror_mode": {
    "name": "ipython",
    "version": 3
   },
   "file_extension": ".py",
   "mimetype": "text/x-python",
   "name": "python",
   "nbconvert_exporter": "python",
   "pygments_lexer": "ipython3",
   "version": "3.10.5"
  },
  "orig_nbformat": 4,
  "vscode": {
   "interpreter": {
    "hash": "418b4f509b9f9438918577446871f5691aa8f897c0dc2f04af11adc386393745"
   }
  }
 },
 "nbformat": 4,
 "nbformat_minor": 2
}
