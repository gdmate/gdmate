{
 "cells": [
  {
   "cell_type": "markdown",
   "source": [
    "# prmf Module Examples"
   ],
   "metadata": {
    "collapsed": false
   }
  },
  {
   "cell_type": "code",
   "execution_count": null,
   "outputs": [],
   "source": [
    "import pprint\n",
    "\n",
    "import gdmate as gd\n",
    "import pprint as pp"
   ],
   "metadata": {
    "collapsed": false,
    "ExecuteTime": {
     "start_time": "2023-04-28T14:48:19.510107Z",
     "end_time": "2023-04-28T14:48:19.511720Z"
    }
   }
  },
  {
   "cell_type": "markdown",
   "source": [
    "##  Aspect parameter libray\n",
    "\n",
    "The aspect parameter library is available here: https://aspect.geodynamics.org/doc/parameter_view/parameters.xml\n",
    "The function *import_prm_library* imports the ASPECT parameter library as a python dictionary."
   ],
   "metadata": {
    "collapsed": false
   }
  },
  {
   "cell_type": "code",
   "execution_count": null,
   "outputs": [],
   "source": [
    "# first you need to creat an empty dictionary to store the libray\n",
    "prm_lib = dict({})\n",
    "\n",
    "# import the library into the empty dictionary\n",
    "gd.prmf.import_prm_library(prm_lib)"
   ],
   "metadata": {
    "collapsed": false,
    "ExecuteTime": {
     "start_time": "2023-04-28T14:55:51.093010Z",
     "end_time": "2023-04-28T14:55:52.448181Z"
    }
   }
  },
  {
   "cell_type": "code",
   "execution_count": null,
   "outputs": [],
   "source": [
    "# print entire library using pprint (pretty-print): this is a large dictionary and you might get a memory error (IOPub data rate exceeded)\n",
    "pp.pprint(prm_lib, width=160, sort_dicts=False)"
   ],
   "metadata": {
    "collapsed": false
   }
  },
  {
   "cell_type": "code",
   "execution_count": null,
   "outputs": [],
   "source": [
    "# print the list of first order parameters\n",
    "for key in prm_lib.keys():\n",
    "    print(key)"
   ],
   "metadata": {
    "collapsed": false,
    "ExecuteTime": {
     "start_time": "2023-04-28T14:59:19.474906Z",
     "end_time": "2023-04-28T14:59:19.477554Z"
    }
   }
  },
  {
   "cell_type": "code",
   "execution_count": null,
   "outputs": [],
   "source": [
    "# print specific parameter\n",
    "pp.pprint(prm_lib['Global parameters'], width=160, sort_dicts=False)"
   ],
   "metadata": {
    "collapsed": false,
    "ExecuteTime": {
     "start_time": "2023-04-28T15:01:47.996439Z",
     "end_time": "2023-04-28T15:01:47.998862Z"
    }
   }
  },
  {
   "cell_type": "code",
   "execution_count": null,
   "outputs": [],
   "source": [
    "# print the documentation of a specific parameter\n",
    "pp.pprint(prm_lib['Global parameters']['Use years in output instead of seconds']['documentation'], width=160, sort_dicts=False)"
   ],
   "metadata": {
    "collapsed": false,
    "ExecuteTime": {
     "start_time": "2023-04-28T15:04:39.153969Z",
     "end_time": "2023-04-28T15:04:39.156471Z"
    }
   }
  },
  {
   "cell_type": "markdown",
   "source": [
    "## Import a parameter file\n",
    "The function *load_prmf* reads a parameter file and put the parameters into a nested dictionary. The function uses two other function:\n",
    "- *prmf_to_prmlist* to make a list from the file lines\n",
    "- *prmlist_to_prmdict* to convert the list of lines to a dictionary of parameters\n",
    "\n",
    "**Note:** Comments (starting with #) and blank lines are ignored."
   ],
   "metadata": {
    "collapsed": false
   }
  },
  {
   "cell_type": "code",
   "execution_count": null,
   "outputs": [],
   "source": [
    "# let's open and print an example parameter file called 'test_f1.prm' and located in the 'assets' directory.\n",
    "with open('../tests/assets/test_f1.prm', \"r\") as prm_f:\n",
    "    for line in prm_f:\n",
    "        print(line)"
   ],
   "metadata": {
    "collapsed": false,
    "ExecuteTime": {
     "start_time": "2023-04-28T16:07:06.319389Z",
     "end_time": "2023-04-28T16:07:06.323076Z"
    }
   }
  },
  {
   "cell_type": "code",
   "execution_count": null,
   "outputs": [],
   "source": [
    "# now let use 'load_prmf' to open the same file as above (assets/test_f1.prm)\n",
    "test_f1_prm = gd.prmf.load_prmf('../tests/assets/test_f1.prm')\n",
    "\n",
    "# print the parameter dictionary 'test_f1_prm' using 'pretty-print'\n",
    "pp.pprint(test_f1_prm, width=160, sort_dicts=False)\n"
   ],
   "metadata": {
    "collapsed": false,
    "ExecuteTime": {
     "start_time": "2023-04-28T16:20:18.435953Z",
     "end_time": "2023-04-28T16:20:18.448079Z"
    }
   }
  },
  {
   "cell_type": "code",
   "execution_count": null,
   "outputs": [],
   "source": [
    "# we can also print the parameter dictionary using the function: sprint_prmdict\n",
    "gd.prmf.sprint_prmdict(test_f1_prm)"
   ],
   "metadata": {
    "collapsed": false,
    "ExecuteTime": {
     "start_time": "2023-04-28T16:26:22.765149Z",
     "end_time": "2023-04-28T16:26:22.770107Z"
    }
   }
  },
  {
   "cell_type": "code",
   "execution_count": null,
   "outputs": [],
   "source": [
    "# let's print just the Global parameters\n",
    "gd.prmf.sprint_prmdict(test_f1_prm['Global parameters'])"
   ],
   "metadata": {
    "collapsed": false,
    "ExecuteTime": {
     "start_time": "2023-04-28T16:27:34.189623Z",
     "end_time": "2023-04-28T16:27:34.191826Z"
    }
   }
  },
  {
   "cell_type": "code",
   "execution_count": null,
   "outputs": [],
   "source": [
    "# let's print the Postprocess parameters\n",
    "gd.prmf.sprint_prmdict(test_f1_prm['Postprocess'])"
   ],
   "metadata": {
    "collapsed": false,
    "ExecuteTime": {
     "start_time": "2023-04-28T16:35:04.422793Z",
     "end_time": "2023-04-28T16:35:04.426928Z"
    }
   }
  },
  {
   "cell_type": "markdown",
   "source": [
    "## Compare parameters\n",
    "There are two functions that can be used to compare either:\n",
    "- parameter dictionaries: *check_prmdict_diff*\n",
    "- parameter files: *check_prmf_diff*"
   ],
   "metadata": {
    "collapsed": false
   }
  },
  {
   "cell_type": "code",
   "execution_count": null,
   "outputs": [],
   "source": [
    "# let's load another parameter file called 'test_f2.prm' located in the 'assets' directory\n",
    "test_f2_prm = gd.prmf.load_prmf('../tests/assets/test_f2.prm')"
   ],
   "metadata": {
    "collapsed": false,
    "ExecuteTime": {
     "start_time": "2023-04-28T16:39:19.554456Z",
     "end_time": "2023-04-28T16:39:19.566036Z"
    }
   }
  },
  {
   "cell_type": "code",
   "execution_count": null,
   "outputs": [],
   "source": [
    "# we can compare the two dictionaries 'test_f2_prm' and 'test_f1_prm'\n",
    "gd.prmf.check_prmdict_diff(test_f1_prm, test_f2_prm)"
   ],
   "metadata": {
    "collapsed": false,
    "ExecuteTime": {
     "start_time": "2023-04-28T16:40:58.937968Z",
     "end_time": "2023-04-28T16:40:58.940974Z"
    }
   }
  },
  {
   "cell_type": "code",
   "execution_count": null,
   "outputs": [],
   "source": [
    "# we can also compare the two parameter files without loading them into dictionaries\n",
    "gd.prmf.check_prmf_diff('../tests/assets/test_f1.prm', '../tests/assets/test_f2.prm')"
   ],
   "metadata": {
    "collapsed": false,
    "ExecuteTime": {
     "start_time": "2023-04-28T16:43:12.724788Z",
     "end_time": "2023-04-28T16:43:12.733466Z"
    }
   }
  },
  {
   "cell_type": "markdown",
   "source": [
    "## Check parameters\n",
    "The function *prmname_check* checks a parameter dictionary to make sure all parameter name are correct. The check is done against the parameter library from: https://aspect.geodynamics.org/doc/parameter_view/parameters.xml"
   ],
   "metadata": {
    "collapsed": false
   }
  },
  {
   "cell_type": "code",
   "execution_count": null,
   "outputs": [],
   "source": [
    "# let's check the dictionary 'test_f1_prm' that we created above by loading the file called 'test_f1.prm'\n",
    "gd.prmf.prmname_check(test_f1_prm)"
   ],
   "metadata": {
    "collapsed": false,
    "ExecuteTime": {
     "start_time": "2023-04-28T16:54:14.107003Z",
     "end_time": "2023-04-28T16:54:15.594635Z"
    }
   }
  },
  {
   "cell_type": "markdown",
   "source": [
    "## Save parameter file\n",
    "The function *write_prmdict* saves a parameter dictionary into a parameter file"
   ],
   "metadata": {
    "collapsed": false
   }
  },
  {
   "cell_type": "code",
   "execution_count": null,
   "outputs": [],
   "source": [
    "# let's create a new parameter dictionary called 'test_f3_prm' by making a copy of the parameter dictionary called 'test_f1_prm'\n",
    "test_f3_prm = test_f1_prm.copy()"
   ],
   "metadata": {
    "collapsed": false,
    "ExecuteTime": {
     "start_time": "2023-04-28T17:04:30.713385Z",
     "end_time": "2023-04-28T17:04:30.716627Z"
    }
   }
  },
  {
   "cell_type": "code",
   "execution_count": null,
   "outputs": [],
   "source": [
    "# let's modify 'test_f3_prm' by changing the Global parameter 'End time' from '3e10' to '5e10'\n",
    "test_f3_prm['Global parameters']['End time']['value'] = '5e10'"
   ],
   "metadata": {
    "collapsed": false,
    "ExecuteTime": {
     "start_time": "2023-04-28T17:06:07.934856Z",
     "end_time": "2023-04-28T17:06:07.936524Z"
    }
   }
  },
  {
   "cell_type": "code",
   "execution_count": null,
   "outputs": [],
   "source": [
    "# let's save the dictionary 'test_f3_prm' into a file called 'test_f3.prm'\n",
    "gd.prmf.write_prmdict(test_f3_prm,'test_f3.prm')"
   ],
   "metadata": {
    "collapsed": false,
    "ExecuteTime": {
     "start_time": "2023-04-28T17:08:10.887682Z",
     "end_time": "2023-04-28T17:08:10.890391Z"
    }
   }
  }
 ],
 "metadata": {
  "kernelspec": {
   "name": "cig_0",
   "language": "python",
   "display_name": "cig_0"
  },
  "language_info": {
   "codemirror_mode": {
    "name": "ipython",
    "version": 2
   },
   "file_extension": ".py",
   "mimetype": "text/x-python",
   "name": "python",
   "nbconvert_exporter": "python",
   "pygments_lexer": "ipython2",
   "version": "2.7.6"
  }
 },
 "nbformat": 4,
 "nbformat_minor": 0
}
